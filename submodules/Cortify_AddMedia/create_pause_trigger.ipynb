{
 "cells": [
  {
   "cell_type": "code",
   "execution_count": 1,
   "outputs": [
    {
     "name": "stdout",
     "output_type": "stream",
     "text": [
      "Created: trigger_pause_500ms.wav in C:\\Users\\nadege\\Projects\\Cortify\\assets\\trigger_new_acquisition_block trigger_pause_500ms.wav\n"
     ]
    }
   ],
   "source": [
    "import os.path as op\n",
    "import soundfile as sf\n",
    "import numpy as np\n",
    "\n",
    "###\" HAVE TO TAKE INTO ACCOUNT THE DURATION OF THE TRIGG + THE DELAY BEFORE ###\n",
    "# Trigger parameters\n",
    "trigger_duration = 0.003  # in seconds\n",
    "trigger_amplitude = 1.0  # 0 to 1\n",
    "trigger_start_time = 0.05  # seconds into the file\n",
    "\n",
    "# Sound file parameters\n",
    "sound_duration = 0.5  # in seconds\n",
    "sample_rate = 44100  # in Hz,\n",
    "output_path = r\"C:\\Users\\nadege\\Projects\\Cortify\\assets\\trigger_new_acquisition_block\"\n",
    "file_name = f\"trigger_pause_{int(sound_duration*1000)}ms.wav\"\n",
    "\n",
    "\n",
    "# Calculate the total number of samples for the sound duration\n",
    "total_samples = int(sound_duration * sample_rate)\n",
    "\n",
    "# Generate an array for the silent channel\n",
    "silent_channel = np.zeros(total_samples)\n",
    "\n",
    "# Generate an array for the click channel\n",
    "click_channel = np.zeros(total_samples)\n",
    "\n",
    "# Calculate the start and end samples for the trigger\n",
    "trigger_start_sample = int(trigger_start_time * sample_rate)\n",
    "trigger_end_sample = trigger_start_sample + int(trigger_duration * sample_rate)\n",
    "\n",
    "# Set the trigger samples to the trigger amplitude\n",
    "click_channel[trigger_start_sample:trigger_end_sample] = trigger_amplitude\n",
    "\n",
    "# Combine the channels into a stereo sound\n",
    "stereo_sound = np.array([silent_channel, click_channel]).T\n",
    "\n",
    "# Write the sound to a .wav file\n",
    "sf.write(op.join(output_path, file_name), stereo_sound, sample_rate)\n",
    "\n",
    "print('Created:', file_name, 'in', output_path, file_name)\n"
   ],
   "metadata": {
    "collapsed": false
   }
  },
  {
   "cell_type": "code",
   "execution_count": 1,
   "outputs": [],
   "source": [],
   "metadata": {
    "collapsed": false
   }
  }
 ],
 "metadata": {
  "kernelspec": {
   "display_name": "Python 3",
   "language": "python",
   "name": "python3"
  },
  "language_info": {
   "codemirror_mode": {
    "name": "ipython",
    "version": 2
   },
   "file_extension": ".py",
   "mimetype": "text/x-python",
   "name": "python",
   "nbconvert_exporter": "python",
   "pygments_lexer": "ipython2",
   "version": "2.7.6"
  }
 },
 "nbformat": 4,
 "nbformat_minor": 0
}
